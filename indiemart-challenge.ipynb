{
 "cells": [
  {
   "cell_type": "markdown",
   "id": "e7195d18",
   "metadata": {},
   "source": [
    "# INDIEMART ONLINE RETAIL ANALYSIS\n",
    "![pngegg.png](pngegg.png)"
   ]
  },
  {
   "cell_type": "markdown",
   "id": "35b458e0",
   "metadata": {},
   "source": [
    "## Import Libraries"
   ]
  },
  {
   "cell_type": "code",
   "execution_count": null,
   "id": "0f6c0974",
   "metadata": {},
   "outputs": [],
   "source": [
    "import sqlite3\n",
    "import pandas as pd\n",
    "import numpy as np\n",
    "import seaborn as sns\n",
    "import matplotlib.pyplot as plt\n",
    "import plotly.express as px\n",
    "import plotly.graph_objects as go\n",
    "import scipy\n",
    "import re\n",
    "from sqlalchemy import create_engine\n",
    "from datetime import datetime\n",
    "from sklearn.preprocessing import StandardScaler\n",
    "from sklearn.cluster import KMeans\n",
    "\n",
    "import warnings\n",
    "warnings.filterwarnings('ignore')\n",
    "\n",
    "conn = sqlite3.connect('C:/Users/Azriel Akbar/Documents/Courses/Personal Project/Indiemart Challenge/Indiemart dbeaver/indiemart.db')"
   ]
  },
  {
   "cell_type": "markdown",
   "id": "82d98fdf",
   "metadata": {},
   "source": [
    "## Load Data from Database"
   ]
  },
  {
   "cell_type": "code",
   "execution_count": null,
   "id": "00ffd6b5",
   "metadata": {
    "scrolled": false
   },
   "outputs": [],
   "source": [
    "# Extract price data from database\n",
    "query = \"SELECT * FROM prices\"\n",
    "price = pd.read_sql_query(query, conn)\n",
    "price.head()"
   ]
  },
  {
   "cell_type": "code",
   "execution_count": null,
   "id": "17b6346a",
   "metadata": {},
   "outputs": [],
   "source": [
    "price['created_at'].nunique()"
   ]
  },
  {
   "cell_type": "code",
   "execution_count": null,
   "id": "def8a1cf",
   "metadata": {},
   "outputs": [],
   "source": [
    "# Extract items data from database\n",
    "query = \"SELECT * FROM items\"\n",
    "item = pd.read_sql_query(query, conn)\n",
    "item.head()"
   ]
  },
  {
   "cell_type": "markdown",
   "id": "3f7451f4",
   "metadata": {},
   "source": [
    "## Indiemart Dataset"
   ]
  },
  {
   "cell_type": "code",
   "execution_count": null,
   "id": "dd091a89",
   "metadata": {},
   "outputs": [],
   "source": [
    "# Left join the price table and item table\n",
    "price_item = price.merge(item, left_on='items_id', right_on='id', how='left')"
   ]
  },
  {
   "cell_type": "code",
   "execution_count": null,
   "id": "c07546fe",
   "metadata": {},
   "outputs": [],
   "source": [
    "# Drop least needed columns\n",
    "price_item.drop(columns=['id_y','description','image','link','created_at_y'], inplace=True)"
   ]
  },
  {
   "cell_type": "code",
   "execution_count": null,
   "id": "c0a786ad",
   "metadata": {
    "scrolled": true
   },
   "outputs": [],
   "source": [
    "price_item.head()"
   ]
  },
  {
   "cell_type": "code",
   "execution_count": null,
   "id": "a155650b",
   "metadata": {
    "scrolled": false
   },
   "outputs": [],
   "source": [
    "price_item = price_item[price_item['price']!=0]"
   ]
  },
  {
   "cell_type": "code",
   "execution_count": null,
   "id": "d842b632",
   "metadata": {},
   "outputs": [],
   "source": [
    "price_item.rename(columns={'id_x':'id','created_at_x':'order_time'}, inplace=True)"
   ]
  },
  {
   "cell_type": "code",
   "execution_count": null,
   "id": "1f14ae87",
   "metadata": {},
   "outputs": [],
   "source": [
    "# Get basic info of columns\n",
    "price_item.info()"
   ]
  },
  {
   "cell_type": "code",
   "execution_count": null,
   "id": "7900b9d5",
   "metadata": {},
   "outputs": [],
   "source": [
    "price_item.isna().any()"
   ]
  },
  {
   "cell_type": "code",
   "execution_count": null,
   "id": "93b1c9d3",
   "metadata": {
    "scrolled": true
   },
   "outputs": [],
   "source": [
    "price_item[price_item.duplicated()]"
   ]
  },
  {
   "cell_type": "code",
   "execution_count": null,
   "id": "7dfdf59d",
   "metadata": {},
   "outputs": [],
   "source": [
    "price_item['order_time'] = pd.to_datetime(price_item['order_time'])"
   ]
  },
  {
   "cell_type": "code",
   "execution_count": null,
   "id": "dd6a2456",
   "metadata": {},
   "outputs": [],
   "source": [
    "price_item['category'] = price_item['category'].str.title()\n",
    "price_item['category'] = price_item['category'].str.replace(' Dan ', ' & ')\n",
    "price_item['category'] = price_item['category'].str.replace('  ', ' ')\n",
    "price_item['name'] = price_item['name'].str.rstrip()\n",
    "price_item['name'] = price_item['name'].str.lstrip()"
   ]
  },
  {
   "cell_type": "code",
   "execution_count": null,
   "id": "0dca5eda",
   "metadata": {},
   "outputs": [],
   "source": [
    "price_item.nunique()"
   ]
  },
  {
   "cell_type": "code",
   "execution_count": null,
   "id": "61126358",
   "metadata": {},
   "outputs": [],
   "source": [
    "price_item['date'] = price_item['order_time'].dt.date\n",
    "price_item['timestamp'] = price_item['order_time'].dt.time\n",
    "price_item['dow'] = price_item['order_time'].dt.strftime('%A')"
   ]
  },
  {
   "cell_type": "code",
   "execution_count": null,
   "id": "cdc82022",
   "metadata": {},
   "outputs": [],
   "source": [
    "price_item.sample(5)"
   ]
  },
  {
   "cell_type": "code",
   "execution_count": null,
   "id": "ab715095",
   "metadata": {
    "scrolled": false
   },
   "outputs": [],
   "source": [
    "indo_cat = list(price_item.query('source == \"klikindomaret\"')['category'].unique())"
   ]
  },
  {
   "cell_type": "code",
   "execution_count": null,
   "id": "661f83b5",
   "metadata": {},
   "outputs": [],
   "source": [
    "alfa_cat = list(price_item.query('source == \"alfagift\"')['category'].unique())"
   ]
  },
  {
   "cell_type": "code",
   "execution_count": null,
   "id": "a86268a3",
   "metadata": {},
   "outputs": [],
   "source": [
    "# uniform-ing categories between sources\n",
    "conditions = [\n",
    "    price_item['category'].isin(['Perlengkapan Anak', 'Perlengkapan Bayi', 'Perlengkapan Menyusui', 'Popok Bayi']),\n",
    "    price_item['category'].isin(['Gas Elpiji', 'Handuk', 'Bed Cover & Sprei', 'Household Non Electric Hobby Product',\n",
    "                                  'Pembasmi Kuman & Pewangi', 'Deterjen & Pembersih', 'Elektronik Rumah Tangga']),\n",
    "    price_item['category'].isin(['Sarapan', 'Makanan Instan', 'Cokelat Permen', 'Cemilan Biskuit',\n",
    "                                  'Buah & Dessert', 'Makanan Siap Saji', 'Makanan Kaleng', 'Oriental Food',\n",
    "                                  'Western Food', 'Korean Food', 'Makanan Bayi', 'Aneka Roti', 'Healthy Food']),\n",
    "    price_item['category'].isin(['Jus', 'Kental Manis', 'Susu', 'Kopi', 'Teh', 'Air Mineral', 'Es Krim',\n",
    "                                  'Sirup', 'Minuman Tradisional', 'Coklat Bubuk Kremer','Minuman Ringan']),\n",
    "    price_item['category'].isin(['Sayur', 'Buah & Dessert', 'Makanan Beku','Dagingayam Seafood','Olahan Susu Telur']),\n",
    "    price_item['category'].isin(['Cosmetic', 'Hair Care', 'Body Care', 'Perawatan Diri',\n",
    "                                  'Mens Care', 'Produk Tisu']),\n",
    "    price_item['category'].isin(['Health Care','Alat Kontrasepsi']),\n",
    "    price_item['category'].isin(['Mainan & Hobi', 'Tas Travel', 'Florist', 'Kartu Perdana', 'Kartu Giftcard',\n",
    "                                  'Gadget Accessories', 'Mens Fashion', 'Womens Fashion','Jas Hujan', 'Kids Fashion',\n",
    "                                  'Stationery Special Items','Mekanik Elektrik','Rokok','Computer 2']),\n",
    "    price_item['category'] == 'Perlengkapan Makanan Hewan',\n",
    "    price_item['category'].isin(['Bahan Makanan', 'Bahan Kue'])\n",
    "]\n",
    "\n",
    "choices = [\n",
    "    'Kebutuhan Ibu & Anak',\n",
    "    'Kebutuhan Rumah',\n",
    "    'Makanan',\n",
    "    'Minuman',\n",
    "    'Produk Segar & Beku',\n",
    "    'Personal Care',\n",
    "    'Kebutuhan Kesehatan',\n",
    "    'Lifestyle',\n",
    "    'Pet Foods',\n",
    "    'Kebutuhan Dapur'\n",
    "]\n",
    "\n",
    "price_item['grand_category'] = np.select(conditions, choices, default=price_item['category'])"
   ]
  },
  {
   "cell_type": "code",
   "execution_count": null,
   "id": "8865aac4",
   "metadata": {
    "scrolled": false
   },
   "outputs": [],
   "source": [
    "price_item.head()"
   ]
  },
  {
   "cell_type": "code",
   "execution_count": null,
   "id": "550b3444",
   "metadata": {},
   "outputs": [],
   "source": [
    "price_item.nunique()"
   ]
  },
  {
   "cell_type": "code",
   "execution_count": null,
   "id": "ece78e2c",
   "metadata": {},
   "outputs": [],
   "source": [
    "price_item['dow'].unique()"
   ]
  },
  {
   "cell_type": "markdown",
   "id": "df6470af",
   "metadata": {},
   "source": [
    "## Descriptive Analysis"
   ]
  },
  {
   "cell_type": "markdown",
   "id": "fdbfbd2c",
   "metadata": {},
   "source": [
    "### 1. Revenue comparison between sources"
   ]
  },
  {
   "cell_type": "code",
   "execution_count": null,
   "id": "b4875a88",
   "metadata": {
    "scrolled": false
   },
   "outputs": [],
   "source": [
    "fig = px.histogram(price_item, x='grand_category', y='price', color='source', barmode='group', height=400)\n",
    "\n",
    "fig.update_layout(title='Revenue Comparison',\n",
    "                  xaxis=dict(title='Category'),\n",
    "                  yaxis=dict(title='IDR (billions)')\n",
    "                 )\n",
    "fig.show()"
   ]
  },
  {
   "cell_type": "markdown",
   "id": "949ee302",
   "metadata": {},
   "source": [
    "- **Insight:** from the diagram above, we can see that `alfagift` were generate more revenue, with *Kebutuhan Ibu & Anak and Personal Care* categories as the 2-top contributors. While, `klikindomaret`'s revenue, mainly comes from *Makanan, Lifestyle, and Personal Care.*"
   ]
  },
  {
   "cell_type": "markdown",
   "id": "874d2094",
   "metadata": {},
   "source": [
    "### 2. Comparison of average prices on each categories"
   ]
  },
  {
   "cell_type": "code",
   "execution_count": null,
   "id": "d48247b1",
   "metadata": {},
   "outputs": [],
   "source": [
    "avg_price_by_category = price_item.groupby(['source','grand_category'])['price'].mean().reset_index()\n",
    "\n",
    "fig = px.scatter(avg_price_by_category, x='price', y='grand_category', color='source', title=\"Dumbbell Chart: Average Price Comparison on each Source's Categories\")\n",
    "\n",
    "for i in avg_price_by_category['grand_category'].unique():\n",
    "    cat_sub = avg_price_by_category[avg_price_by_category['grand_category'] == i]\n",
    "    \n",
    "    fig.add_shape(\n",
    "    type='line',\n",
    "    layer='below',\n",
    "    y0=cat_sub.grand_category.values[0], x0=cat_sub.price.values[0],\n",
    "    y1=cat_sub.grand_category.values[1], x1=cat_sub.price.values[1])\n",
    "\n",
    "fig.show()"
   ]
  },
  {
   "cell_type": "markdown",
   "id": "20a85282",
   "metadata": {},
   "source": [
    "### 3. Product with the most sold and the least sold"
   ]
  },
  {
   "cell_type": "markdown",
   "id": "b9b5fdee",
   "metadata": {},
   "source": [
    "#### Top Sold Product"
   ]
  },
  {
   "cell_type": "code",
   "execution_count": null,
   "id": "eded9bed",
   "metadata": {},
   "outputs": [],
   "source": [
    "topleast30_sold = price_item.groupby(['name','source'])['id'].agg('count').reset_index().sort_values(by='id', ascending=False)\n",
    "top30_sold = topleast30_sold.head(30)\n",
    "least30_sold = topleast30_sold.tail(30)"
   ]
  },
  {
   "cell_type": "code",
   "execution_count": null,
   "id": "7ac10a2d",
   "metadata": {
    "scrolled": false
   },
   "outputs": [],
   "source": [
    "fig = px.bar(top30_sold, x='name', y='id', color='source', height=700)\n",
    "\n",
    "fig.update_layout(title='Top Sold Product',\n",
    "                  xaxis=dict(title='Product'),\n",
    "                  yaxis=dict(title='Count')\n",
    "                 )\n",
    "#fig.update_traces(marker=dict(color=top30_sold['id'].tolist()))\n",
    "fig.show()"
   ]
  },
  {
   "cell_type": "markdown",
   "id": "a873fe6f",
   "metadata": {},
   "source": [
    "#### Least Sold Product"
   ]
  },
  {
   "cell_type": "code",
   "execution_count": null,
   "id": "1f457163",
   "metadata": {},
   "outputs": [],
   "source": [
    "fig = px.bar(least30_sold, x='name', y='id', color='source', height=700)\n",
    "\n",
    "fig.update_layout(title='Least Sold Product',\n",
    "                  xaxis=dict(title='Product'),\n",
    "                  yaxis=dict(title='Count')\n",
    "                 )\n",
    "fig.show()"
   ]
  },
  {
   "cell_type": "markdown",
   "id": "4be8d9d6",
   "metadata": {},
   "source": [
    "### 4. Purchase time heatmap"
   ]
  },
  {
   "cell_type": "code",
   "execution_count": null,
   "id": "39b92f36",
   "metadata": {
    "scrolled": true
   },
   "outputs": [],
   "source": [
    "order = ['Sunday','Monday','Tuesday','Wednesday','Thursday','Friday','Saturday']\n",
    "order_heatmap = price_item.pivot_table(index='dow', columns=price_item['order_time'].dt.floor('30min').dt.time,\\\n",
    "                                                values='id', aggfunc='count').reset_index()\n",
    "order_heatmap.fillna(0, inplace=True)\n",
    "order_heatmap = order_heatmap.set_index('dow').reindex(order)"
   ]
  },
  {
   "cell_type": "code",
   "execution_count": null,
   "id": "6bbd810c",
   "metadata": {},
   "outputs": [],
   "source": [
    "# purchase_heat = price_item.groupby([pd.Categorical(price_item['dow'], categories= order, ordered=True),\\\n",
    "#                                     price_item['order_time'].dt.floor('30min').dt.time])['id'].agg('count').reset_index()\n",
    "# purchase_heat.rename(columns={'level_0':'dow'}, inplace=True)\n",
    "# purchase_heat"
   ]
  },
  {
   "cell_type": "code",
   "execution_count": null,
   "id": "88d88c9e",
   "metadata": {
    "scrolled": false
   },
   "outputs": [],
   "source": [
    "plt.figure(figsize=(18,8))\n",
    "sns.heatmap(order_heatmap, annot=True, fmt='0.0f', cmap='crest')\n",
    "\n",
    "plt.title('Purchase Time Heatmap')\n",
    "plt.xlabel('Hours')\n",
    "plt.ylabel('Day of Week')\n",
    "\n",
    "plt.show()"
   ]
  },
  {
   "cell_type": "markdown",
   "id": "2abcd4ce",
   "metadata": {},
   "source": [
    "## Save Processed Data"
   ]
  },
  {
   "cell_type": "code",
   "execution_count": null,
   "id": "c2dc4108",
   "metadata": {
    "scrolled": false
   },
   "outputs": [],
   "source": [
    "# save table to parquet\n",
    "price_item.to_csv('C:/Users/Azriel Akbar/Documents/Courses/Personal Project/Indiemart Challenge/price_item.csv')\n",
    "order_heatmap.to_csv('C:/Users/Azriel Akbar/Documents/Courses/Personal Project/Indiemart Challenge/order_heatmap.csv')"
   ]
  }
 ],
 "metadata": {
  "kernelspec": {
   "display_name": "Python 3 (ipykernel)",
   "language": "python",
   "name": "python3"
  },
  "language_info": {
   "codemirror_mode": {
    "name": "ipython",
    "version": 3
   },
   "file_extension": ".py",
   "mimetype": "text/x-python",
   "name": "python",
   "nbconvert_exporter": "python",
   "pygments_lexer": "ipython3",
   "version": "3.10.9"
  }
 },
 "nbformat": 4,
 "nbformat_minor": 5
}
